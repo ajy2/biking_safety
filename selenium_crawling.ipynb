{
 "cells": [
  {
   "cell_type": "code",
   "execution_count": 65,
   "metadata": {},
   "outputs": [],
   "source": [
    "from selenium import webdriver\n",
    "import pandas as pd"
   ]
  },
  {
   "cell_type": "code",
   "execution_count": 66,
   "metadata": {},
   "outputs": [],
   "source": [
    "browser = webdriver.Chrome('./chromedriver')\n",
    "url='http://corearoadbike.com/board/board.php?g_id=Menu01&t_id=Menu03Top1&sch_W=title_content&sch_O=OR&sch_T=%EC%82%AC%EA%B3%A0+%EB%82%99%EC%B0%A81&no=1742829'\n",
    "browser.get(url)"
   ]
  },
  {
   "cell_type": "code",
   "execution_count": 67,
   "metadata": {},
   "outputs": [],
   "source": [
    "title = browser.find_elements_by_class_name('board_v_title')\n",
    "author = browser.find_elements_by_xpath('/html/body/table[6]/tbody/tr[1]/td/table[4]/tbody/tr/td/table/tbody/tr/td[6]/table/tbody/tr/td/table[5]/tbody/tr[1]/td/table[1]/tbody/tr/td/table/tbody/tr/td/table[3]/tbody/tr/td[1]/font')\n",
    "date_time = browser.find_elements_by_class_name('middle_77')\n",
    "body_contents = browser.find_elements_by_class_name('view_content')"
   ]
  },
  {
   "cell_type": "code",
   "execution_count": 72,
   "metadata": {},
   "outputs": [
    {
     "name": "stdout",
     "output_type": "stream",
     "text": [
      "[['유부형님들 도움을!', '아는아이디', '21-11-13 16:59', '질게면 바로 질게가겠습니다 ㅠㅠ이번 와이프 1차 승인으로 tt기추 승인되었습니다.* 사고싶으면 사라! 중고든 새거든 일단 매물 보자!와이프 변심되기 전에 끝낼려고 하는데그전까지 제가 어떤 태세로 움직여야 될지 고민입니다!맛난 음식과 편안한 집안생활을 유지하기 위해부지런히 움직이고 있습니다.추가적인 팁 주십시오 ㅠㅠ']]\n",
      "        title author       date_time  \\\n",
      "0  유부형님들 도움을!  아는아이디  21-11-13 16:59   \n",
      "\n",
      "                                       body_contents  \n",
      "0  질게면 바로 질게가겠습니다 ㅠㅠ이번 와이프 1차 승인으로 tt기추 승인되었습니다.*...  \n"
     ]
    }
   ],
   "source": [
    "data = [[title[0].text, author[0].text, date_time[0].text, body_contents.replace('\\t', '').replace('\\n', '')]]\n",
    "df = pd.DataFrame(data, columns = ['title','author','date_time','body_contents'])\n",
    "df.to_csv('sample.txt',index=False, header=True, sep='\\t')"
   ]
  },
  {
   "cell_type": "code",
   "execution_count": null,
   "metadata": {},
   "outputs": [],
   "source": [
    "browser.close()"
   ]
  }
 ],
 "metadata": {
  "kernelspec": {
   "display_name": "Python 3",
   "language": "python",
   "name": "python3"
  },
  "language_info": {
   "codemirror_mode": {
    "name": "ipython",
    "version": 3
   },
   "file_extension": ".py",
   "mimetype": "text/x-python",
   "name": "python",
   "nbconvert_exporter": "python",
   "pygments_lexer": "ipython3",
   "version": "3.8.3"
  }
 },
 "nbformat": 4,
 "nbformat_minor": 4
}
